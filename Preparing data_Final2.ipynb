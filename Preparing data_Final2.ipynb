{
 "cells": [
  {
   "cell_type": "code",
   "execution_count": null,
   "id": "6c427746",
   "metadata": {},
   "outputs": [],
   "source": [
    "import numpy as np\n",
    "import pandas as pd\n",
    "import datetime as dt\n"
   ]
  },
  {
   "cell_type": "code",
   "execution_count": null,
   "id": "c7c10563",
   "metadata": {},
   "outputs": [],
   "source": [
    "# read data from first step of data cleaning\n",
    "appended_data2 = pd.read_csv('C:/Users/faraz/OneDrive - Ultranav/DTU/Semester 4/02806 - Social data analysis & visualization/Project/data/data_prepare1.csv',index_col=0)"
   ]
  },
  {
   "cell_type": "code",
   "execution_count": null,
   "id": "e779052d",
   "metadata": {},
   "outputs": [],
   "source": [
    "# reset indexes\n",
    "appended_data3 = appended_data2.reset_index(drop=True)"
   ]
  },
  {
   "cell_type": "code",
   "execution_count": null,
   "id": "15033ef6",
   "metadata": {},
   "outputs": [],
   "source": [
    "# show columns\n",
    "appended_data3.columns"
   ]
  },
  {
   "cell_type": "code",
   "execution_count": null,
   "id": "1ee3361a",
   "metadata": {},
   "outputs": [],
   "source": [
    "# convert userId column to string\n",
    "appended_data3['userId'] = appended_data3['userId'].astype(str)"
   ]
  },
  {
   "cell_type": "code",
   "execution_count": null,
   "id": "422f9340",
   "metadata": {},
   "outputs": [],
   "source": [
    "# convert datetime column to pandas datetime\n",
    "appended_data3['datetime'] = pd.to_datetime(appended_data3['datetime'])"
   ]
  },
  {
   "cell_type": "code",
   "execution_count": null,
   "id": "d8cfc6bc",
   "metadata": {},
   "outputs": [],
   "source": [
    "# show first 5 rows\n",
    "appended_data3.head()"
   ]
  },
  {
   "cell_type": "code",
   "execution_count": null,
   "id": "147839cb",
   "metadata": {},
   "outputs": [],
   "source": [
    "# convert datetime column to datetime format and get the days of the week based on datetime column\n",
    "appended_data3['Day of the Week'] = appended_data3['datetime'].dt.day_name()\n",
    "# drop duplicate rows\n",
    "appended_data3.drop_duplicates(subset=['longitude', 'latitude'],keep=False,inplace=True)\n",
    "# drop nan values\n",
    "appended_data3 = appended_data3.dropna()\n",
    "#reset the index\n",
    "appended_data3 = appended_data3.reset_index(drop=True)\n",
    "# drop the infinity and nan values\n",
    "appended_data3 = appended_data3.replace([np.inf, -np.inf], np.nan).dropna(axis=0)"
   ]
  },
  {
   "cell_type": "code",
   "execution_count": null,
   "id": "e2faaf26",
   "metadata": {},
   "outputs": [],
   "source": [
    "# drop observations related to year 2006\n",
    "appended_data3 = appended_data3[appended_data3['datetime'].dt.year != 2006]\n",
    "# delete observations related to year 2007\n",
    "appended_data3 = appended_data3[appended_data3['datetime'].dt.year != 2007]\n",
    "# delete observations related to year 2016\n",
    "appended_data3 = appended_data3[appended_data3['datetime'].dt.year != 2016]\n",
    "# delete observations related to year 2019\n",
    "appended_data3 = appended_data3[appended_data3['datetime'].dt.year != 2019]"
   ]
  },
  {
   "cell_type": "code",
   "execution_count": null,
   "id": "06e9051c",
   "metadata": {},
   "outputs": [],
   "source": [
    "# save datast to local drive\n",
    "appended_data3.to_csv('C:/Users/faraz/OneDrive - Ultranav/DTU/Semester 4/02806 - Social data analysis & visualization/Project/data/data_prepare2.csv')"
   ]
  },
  {
   "cell_type": "code",
   "execution_count": null,
   "id": "24b1d503",
   "metadata": {},
   "outputs": [],
   "source": [
    "# choose set of datset related to year 2015 for geo data analysis\n",
    "appended_data4 = appended_data3[appended_data3['datetime'].dt.year == 2015]\n",
    "# save to local drive\n",
    "appended_data4.to_csv('C:/Users/faraz/OneDrive - Ultranav/DTU/Semester 4/02806 - Social data analysis & visualization/Project/data/data_prepare2015.csv')"
   ]
  },
  {
   "cell_type": "code",
   "execution_count": null,
   "id": "99456076",
   "metadata": {},
   "outputs": [],
   "source": []
  }
 ],
 "metadata": {
  "kernelspec": {
   "display_name": "Python 3 (ipykernel)",
   "language": "python",
   "name": "python3"
  },
  "language_info": {
   "codemirror_mode": {
    "name": "ipython",
    "version": 3
   },
   "file_extension": ".py",
   "mimetype": "text/x-python",
   "name": "python",
   "nbconvert_exporter": "python",
   "pygments_lexer": "ipython3",
   "version": "3.9.7"
  }
 },
 "nbformat": 4,
 "nbformat_minor": 5
}
